{
 "cells": [
  {
   "cell_type": "markdown",
   "metadata": {},
   "source": [
    "## Классификация изображений \n",
    "### Тестовое задание\n",
    "\n",
    "В распоряжении две папки, в одной находятся изоброжения Георгия, в другой не-Георгий. Задача обучить модель классификации Георгиев от не-Георгиев. В качестве метрики модели использована accuracy."
   ]
  },
  {
   "cell_type": "code",
   "execution_count": 18,
   "metadata": {},
   "outputs": [],
   "source": [
    "from tensorflow.keras.datasets import fashion_mnist\n",
    "from tensorflow.keras.layers import Dense, Conv2D, AvgPool2D, Flatten, GlobalAveragePooling2D, Dropout\n",
    "from tensorflow.keras.models import Sequential\n",
    "from tensorflow.keras.optimizers import Adam\n",
    "from tensorflow.keras.preprocessing.image import ImageDataGenerator\n",
    "from tensorflow.keras.applications.resnet import ResNet50\n",
    "\n",
    "from sklearn.model_selection import GridSearchCV, train_test_split\n",
    "\n",
    "from PIL import Image\n",
    "\n",
    "import pandas as pd\n",
    "import numpy as np\n",
    "import matplotlib.pyplot as plt\n",
    "\n",
    "import urllib\n",
    "import requests"
   ]
  },
  {
   "cell_type": "code",
   "execution_count": 2,
   "metadata": {},
   "outputs": [],
   "source": [
    "columns_name = ['file_name']"
   ]
  },
  {
   "cell_type": "code",
   "execution_count": 3,
   "metadata": {},
   "outputs": [],
   "source": [
    "georges_data = pd.read_csv('/Users/albertsafin/Desktop/data/georges.csv',names=columns_name)\n",
    "non_georges_data = pd.read_csv('/Users/albertsafin/Desktop/data/non_georges.csv',names=columns_name)"
   ]
  },
  {
   "cell_type": "code",
   "execution_count": 4,
   "metadata": {},
   "outputs": [
    {
     "name": "stdout",
     "output_type": "stream",
     "text": [
      "<class 'pandas.core.frame.DataFrame'>\n",
      "RangeIndex: 3366 entries, 0 to 3365\n",
      "Data columns (total 1 columns):\n",
      " #   Column     Non-Null Count  Dtype \n",
      "---  ------     --------------  ----- \n",
      " 0   file_name  3366 non-null   object\n",
      "dtypes: object(1)\n",
      "memory usage: 26.4+ KB\n",
      "<class 'pandas.core.frame.DataFrame'>\n",
      "RangeIndex: 2681 entries, 0 to 2680\n",
      "Data columns (total 1 columns):\n",
      " #   Column     Non-Null Count  Dtype \n",
      "---  ------     --------------  ----- \n",
      " 0   file_name  2681 non-null   object\n",
      "dtypes: object(1)\n",
      "memory usage: 21.1+ KB\n"
     ]
    }
   ],
   "source": [
    "non_georges_data.info()\n",
    "georges_data.info()"
   ]
  },
  {
   "cell_type": "markdown",
   "metadata": {},
   "source": [
    "В папке с изображением Гоергия 2681 файл, а во второй с не-Георгием - 3366 файлов."
   ]
  },
  {
   "cell_type": "code",
   "execution_count": 5,
   "metadata": {},
   "outputs": [],
   "source": [
    "georges_data['georg_pict'] = 1\n",
    "non_georges_data['georg_pict'] = 0"
   ]
  },
  {
   "cell_type": "markdown",
   "metadata": {},
   "source": [
    "Изображение Георгия на картинке будем считать за 1, в противном случае - 0"
   ]
  },
  {
   "cell_type": "code",
   "execution_count": 6,
   "metadata": {},
   "outputs": [],
   "source": [
    "data_full = georges_data.append(non_georges_data).sample(frac=1, random_state=12345).reset_index(drop=True).reset_index()"
   ]
  },
  {
   "cell_type": "code",
   "execution_count": 7,
   "metadata": {},
   "outputs": [
    {
     "name": "stdout",
     "output_type": "stream",
     "text": [
      "<class 'pandas.core.frame.DataFrame'>\n",
      "RangeIndex: 6047 entries, 0 to 6046\n",
      "Data columns (total 3 columns):\n",
      " #   Column      Non-Null Count  Dtype \n",
      "---  ------      --------------  ----- \n",
      " 0   index       6047 non-null   int64 \n",
      " 1   file_name   6047 non-null   object\n",
      " 2   georg_pict  6047 non-null   int64 \n",
      "dtypes: int64(2), object(1)\n",
      "memory usage: 141.9+ KB\n"
     ]
    }
   ],
   "source": [
    "data_full.info()"
   ]
  },
  {
   "cell_type": "code",
   "execution_count": 8,
   "metadata": {},
   "outputs": [],
   "source": [
    "def image_func(row):\n",
    "    url = row['file_name']\n",
    "    return str(Image.open(requests.get(url, stream=True).raw))"
   ]
  },
  {
   "cell_type": "code",
   "execution_count": 9,
   "metadata": {},
   "outputs": [],
   "source": [
    "data_full['image'] = data_full.apply(image_func, axis=1)"
   ]
  },
  {
   "cell_type": "markdown",
   "metadata": {},
   "source": [
    "Преобразование ссылок на файлы в формат, который можно будет прочесть"
   ]
  },
  {
   "cell_type": "code",
   "execution_count": 10,
   "metadata": {},
   "outputs": [
    {
     "name": "stdout",
     "output_type": "stream",
     "text": [
      "<class 'pandas.core.frame.DataFrame'>\n",
      "RangeIndex: 6047 entries, 0 to 6046\n",
      "Data columns (total 4 columns):\n",
      " #   Column      Non-Null Count  Dtype \n",
      "---  ------      --------------  ----- \n",
      " 0   index       6047 non-null   int64 \n",
      " 1   file_name   6047 non-null   object\n",
      " 2   georg_pict  6047 non-null   int64 \n",
      " 3   image       6047 non-null   object\n",
      "dtypes: int64(2), object(2)\n",
      "memory usage: 189.1+ KB\n"
     ]
    }
   ],
   "source": [
    "data_full.info()"
   ]
  },
  {
   "cell_type": "code",
   "execution_count": 11,
   "metadata": {},
   "outputs": [],
   "source": [
    "def download_func(row):\n",
    "    url = row['file_name']\n",
    "    i = str(row['image'])\n",
    "    urllib.request.urlretrieve(url,'/Users/albertsafin/Desktop/data/gosha/'+ i)"
   ]
  },
  {
   "cell_type": "code",
   "execution_count": 12,
   "metadata": {},
   "outputs": [
    {
     "data": {
      "text/plain": [
       "0       None\n",
       "1       None\n",
       "2       None\n",
       "3       None\n",
       "4       None\n",
       "        ... \n",
       "6042    None\n",
       "6043    None\n",
       "6044    None\n",
       "6045    None\n",
       "6046    None\n",
       "Length: 6047, dtype: object"
      ]
     },
     "execution_count": 12,
     "metadata": {},
     "output_type": "execute_result"
    }
   ],
   "source": [
    "data_full.apply(download_func, axis=1)"
   ]
  },
  {
   "cell_type": "markdown",
   "metadata": {},
   "source": [
    "Скачал файлы для их дальнейшего использования в библиотеке keras"
   ]
  },
  {
   "cell_type": "code",
   "execution_count": 60,
   "metadata": {},
   "outputs": [
    {
     "name": "stdout",
     "output_type": "stream",
     "text": [
      "Found 6047 non-validated image filenames.\n"
     ]
    }
   ],
   "source": [
    "datagen = ImageDataGenerator(rescale=1./255)\n",
    "gen_flow = datagen.flow_from_dataframe(\n",
    "        dataframe= data_full,\n",
    "        directory= '/Users/albertsafin/Desktop/data/gosha/',\n",
    "        x_col='image',\n",
    "        y_col='georg_pict',\n",
    "        target_size=(224, 224),\n",
    "        batch_size=32,\n",
    "        class_mode='raw',\n",
    "        subset='training',\n",
    "        validate_filenames=False,\n",
    "        seed=12345)"
   ]
  },
  {
   "cell_type": "code",
   "execution_count": 63,
   "metadata": {},
   "outputs": [
    {
     "data": {
      "image/png": "[encoded data removed]",
      "text/plain": [
       "<Figure size 720x720 with 10 Axes>"
      ]
     },
     "metadata": {},
     "output_type": "display_data"
    }
   ],
   "source": [
    "features, target = next(gen_flow)\n",
    "fig = plt.figure(figsize=(10,10))\n",
    "\n",
    "for i in range(10,20):\n",
    "    \n",
    "    if target[i] == 1: \n",
    "        gosha = 'да'\n",
    "    else: \n",
    "        gosha = 'нет'\n",
    "        \n",
    "    fig.add_subplot(5, 5, i+1)\n",
    "    #plt.imshow(features[i])\n",
    "    plt.title('Георгий - ' + gosha)\n",
    "    plt.xticks([])\n",
    "    plt.yticks([])\n",
    "    plt.tight_layout()"
   ]
  },
  {
   "cell_type": "markdown",
   "metadata": {},
   "source": [
    "Проверка изображений показала, что картинки определены правильно. (Убрал изображения, дабы не нарушать авторские права)"
   ]
  },
  {
   "cell_type": "code",
   "execution_count": 19,
   "metadata": {},
   "outputs": [],
   "source": [
    " data_train, data_test = train_test_split(data_full, test_size = 0.25, random_state=12345)"
   ]
  },
  {
   "cell_type": "code",
   "execution_count": 68,
   "metadata": {},
   "outputs": [
    {
     "name": "stdout",
     "output_type": "stream",
     "text": [
      "<class 'pandas.core.frame.DataFrame'>\n",
      "Int64Index: 4535 entries, 4702 to 4578\n",
      "Data columns (total 4 columns):\n",
      " #   Column      Non-Null Count  Dtype \n",
      "---  ------      --------------  ----- \n",
      " 0   index       4535 non-null   int64 \n",
      " 1   file_name   4535 non-null   object\n",
      " 2   georg_pict  4535 non-null   int64 \n",
      " 3   image       4535 non-null   object\n",
      "dtypes: int64(2), object(2)\n",
      "memory usage: 177.1+ KB\n"
     ]
    }
   ],
   "source": [
    "data_train.info()\n",
    "#data_test.info()"
   ]
  },
  {
   "cell_type": "markdown",
   "metadata": {},
   "source": [
    "Разделил данные на обучающую и тестовую выборки."
   ]
  },
  {
   "cell_type": "code",
   "execution_count": 37,
   "metadata": {},
   "outputs": [],
   "source": [
    "def load_train(path):\n",
    "    \n",
    "    train_datagen = ImageDataGenerator(\n",
    "        validation_split=0.25,\n",
    "        rescale=1./255)\n",
    "\n",
    "    train_gen_flow = train_datagen.flow_from_dataframe(\n",
    "        dataframe= data_train,\n",
    "        directory= path,\n",
    "        x_col='image',\n",
    "        y_col='georg_pict',\n",
    "        target_size=(224, 224),\n",
    "        batch_size=16,\n",
    "        class_mode='raw',\n",
    "        subset='training',\n",
    "        validate_filenames=False,\n",
    "        seed=12345)\n",
    "\n",
    "    return train_gen_flow"
   ]
  },
  {
   "cell_type": "code",
   "execution_count": 34,
   "metadata": {},
   "outputs": [],
   "source": [
    "def load_test(path):\n",
    "    \n",
    "    test_datagen = ImageDataGenerator(\n",
    "        validation_split=0.25,\n",
    "        rescale=1./255)\n",
    "\n",
    "    test_gen_flow = test_datagen.flow_from_dataframe(\n",
    "        dataframe= data_test,\n",
    "        directory= path,\n",
    "        x_col='image',\n",
    "        y_col='georg_pict',\n",
    "        target_size=(224, 224),\n",
    "        batch_size=16,\n",
    "        class_mode='raw',\n",
    "        subset='validation',\n",
    "        validate_filenames=False,\n",
    "        seed=12345)\n",
    "\n",
    "    return test_gen_flow"
   ]
  },
  {
   "cell_type": "code",
   "execution_count": 73,
   "metadata": {},
   "outputs": [],
   "source": [
    "def create_model(input_shape):\n",
    "\n",
    "    backbone = ResNet50(input_shape=input_shape, weights='imagenet', include_top=False)    \n",
    "    model = Sequential()\n",
    "    model.add(backbone)\n",
    "    model.add(GlobalAveragePooling2D())\n",
    "    model.add(Dense(1, activation='relu')) \n",
    "    opt = Adam(lr=0.0001)\n",
    "    model.compile(loss='mse', optimizer=opt, metrics=['accuracy'])\n",
    "\n",
    "    return model\n"
   ]
  },
  {
   "cell_type": "markdown",
   "metadata": {},
   "source": [
    "Воспользовался слоями GlobalAveragePooling2D для усреднения информации по всему изображению, то есть получить пиксель с большим количеством каналов, Dense — полносвязный слой для классификации. Использовал также алгоритм Adam для ускорения обучения."
   ]
  },
  {
   "cell_type": "code",
   "execution_count": 74,
   "metadata": {},
   "outputs": [],
   "source": [
    "def train_model(model, train_data, test_data, batch_size=16,\n",
    "                epochs=10, steps_per_epoch=None, validation_steps=None):\n",
    "\n",
    "    if steps_per_epoch is None:\n",
    "        steps_per_epoch = len(train_data)\n",
    "    if validation_steps is None:\n",
    "        validation_steps = len(test_data)\n",
    "    model.fit(train_data,\n",
    "              validation_data=test_data,\n",
    "              batch_size=batch_size, epochs=epochs,\n",
    "              steps_per_epoch=steps_per_epoch,\n",
    "              validation_steps=validation_steps,\n",
    "              verbose=2)\n",
    "    return model"
   ]
  },
  {
   "cell_type": "markdown",
   "metadata": {},
   "source": [
    "Функции для загрузки данных, а также использование модели ResNet50 для обучения на обучающей выборки. В ходе тестов было выявлено, что 10 эпох будет достаточно для обучения модели."
   ]
  },
  {
   "cell_type": "code",
   "execution_count": 75,
   "metadata": {},
   "outputs": [
    {
     "name": "stdout",
     "output_type": "stream",
     "text": [
      "Found 3402 non-validated image filenames.\n"
     ]
    }
   ],
   "source": [
    "train = load_train('/Users/albertsafin/Desktop/data/gosha/')"
   ]
  },
  {
   "cell_type": "code",
   "execution_count": 76,
   "metadata": {},
   "outputs": [
    {
     "name": "stdout",
     "output_type": "stream",
     "text": [
      "Found 378 non-validated image filenames.\n"
     ]
    }
   ],
   "source": [
    "test = load_test('/Users/albertsafin/Desktop/data/gosha/')"
   ]
  },
  {
   "cell_type": "code",
   "execution_count": 77,
   "metadata": {},
   "outputs": [],
   "source": [
    "model = create_model((224,224,3))"
   ]
  },
  {
   "cell_type": "code",
   "execution_count": 78,
   "metadata": {},
   "outputs": [
    {
     "name": "stdout",
     "output_type": "stream",
     "text": [
      "Epoch 1/10\n",
      "213/213 - 745s - loss: 0.3238 - accuracy: 0.6975 - val_loss: 0.4101 - val_accuracy: 0.5899\n",
      "Epoch 2/10\n",
      "213/213 - 796s - loss: 0.1554 - accuracy: 0.8301 - val_loss: 0.4101 - val_accuracy: 0.5899\n",
      "Epoch 3/10\n",
      "213/213 - 780s - loss: 0.0872 - accuracy: 0.9150 - val_loss: 0.2330 - val_accuracy: 0.6402\n",
      "Epoch 4/10\n",
      "213/213 - 772s - loss: 0.0547 - accuracy: 0.9497 - val_loss: 0.1654 - val_accuracy: 0.8201\n",
      "Epoch 5/10\n",
      "213/213 - 723s - loss: 0.0493 - accuracy: 0.9603 - val_loss: 0.1099 - val_accuracy: 0.8783\n",
      "Epoch 6/10\n",
      "213/213 - 702s - loss: 0.0610 - accuracy: 0.9456 - val_loss: 0.1596 - val_accuracy: 0.8122\n",
      "Epoch 7/10\n",
      "213/213 - 808s - loss: 0.0944 - accuracy: 0.9053 - val_loss: 0.1710 - val_accuracy: 0.7963\n",
      "Epoch 8/10\n",
      "213/213 - 707s - loss: 0.0744 - accuracy: 0.9292 - val_loss: 0.1085 - val_accuracy: 0.8783\n",
      "Epoch 9/10\n",
      "213/213 - 718s - loss: 0.0503 - accuracy: 0.9571 - val_loss: 0.0870 - val_accuracy: 0.9048\n",
      "Epoch 10/10\n",
      "213/213 - 720s - loss: 0.0366 - accuracy: 0.9706 - val_loss: 0.0923 - val_accuracy: 0.8968\n"
     ]
    }
   ],
   "source": [
    "model_train = train_model(model,train,test)"
   ]
  },
  {
   "cell_type": "markdown",
   "metadata": {},
   "source": [
    "## ИТОГ\n",
    "\n",
    "- Проверены изоброжения на адекватность. В папке с Георгием действительно изображен он.\n",
    "- Проведена предобработка файлов для дальнейшего обучения модели\n",
    "- Построена модель на основе *ResNet50*, в качестве метрики использовалась - **accuracy**, которая показала на тестовой выборке неплохой результат - **0.90**. Модель сможет определить Георгия от не-Георгия"
   ]
  }
 ],
 "metadata": {
  "kernelspec": {
   "display_name": "Python 3",
   "language": "python",
   "name": "python3"
  },
  "language_info": {
   "codemirror_mode": {
    "name": "ipython",
    "version": 3
   },
   "file_extension": ".py",
   "mimetype": "text/x-python",
   "name": "python",
   "nbconvert_exporter": "python",
   "pygments_lexer": "ipython3",
   "version": "3.7.6"
  }
 },
 "nbformat": 4,
 "nbformat_minor": 4
}
